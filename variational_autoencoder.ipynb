{
  "nbformat": 4,
  "nbformat_minor": 0,
  "metadata": {
    "colab": {
      "name": "variational_autoencoder.ipynb",
      "provenance": [],
      "collapsed_sections": []
    },
    "kernelspec": {
      "name": "python3",
      "display_name": "Python 3"
    },
    "accelerator": "GPU"
  },
  "cells": [
    {
      "cell_type": "markdown",
      "metadata": {
        "id": "DlO3kMTm6PvP",
        "colab_type": "text"
      },
      "source": [
        "# Variational autoencoder\n",
        "- Probablistic autoencoders: the outputs are partly determined by chance, even after training\n",
        "- generative autoencoders: it can generate new instances that look like they were sampled from the training set.\n",
        "- performs variational Bayesian inference\n",
        "- Instead of directly producing a latent representation for a given input, the encoder produces a mean and a standard deviation Then the actual latent representation is sampled from a Gaussian distribution with the generated mean and standard deviation. \n",
        "- After training a variaonal autoencoder, you can very easily generate a new instance by sampling a random numbers from the gaussian distribution and decode it!\n",
        "- The cost function consists of two parts:\n",
        "    1. reconstruction loss that pushes the autoencoder to reproduce its inputs\n",
        "    2. latent loss that pushes the autoencoder to have coding that looks as though they were sampled from a simple gaussian distribution"
      ]
    },
    {
      "cell_type": "markdown",
      "metadata": {
        "id": "W8Zr9RnBDhwX",
        "colab_type": "text"
      },
      "source": [
        "## Importing dependencies\n"
      ]
    },
    {
      "cell_type": "code",
      "metadata": {
        "id": "ANlIJXDCDkN9",
        "colab_type": "code",
        "colab": {
          "base_uri": "https://localhost:8080/",
          "height": 52
        },
        "outputId": "3ca7f64f-085f-4bd3-e145-7861e6f9ef2d"
      },
      "source": [
        "import tensorflow as tf\n",
        "import tensorflow.keras as keras\n",
        "import tensorflow.keras.backend as K\n",
        "import numpy as np\n",
        "from tensorflow.keras.layers import Layer, Input, Dense, Flatten, Reshape\n",
        "import matplotlib.pyplot as plt\n",
        "\n",
        "print(f\"tensorflow version: {tf.__version__}\")\n",
        "print(f\"keras version: {keras.__version__}\")"
      ],
      "execution_count": 1,
      "outputs": [
        {
          "output_type": "stream",
          "text": [
            "tensorflow version: 2.2.0\n",
            "keras version: 2.3.0-tf\n"
          ],
          "name": "stdout"
        }
      ]
    },
    {
      "cell_type": "markdown",
      "metadata": {
        "id": "lbLXqiS4jbf6",
        "colab_type": "text"
      },
      "source": [
        "## Exploratory data analysis & data preprocesin"
      ]
    },
    {
      "cell_type": "code",
      "metadata": {
        "id": "jeoilHWMjfba",
        "colab_type": "code",
        "colab": {
          "base_uri": "https://localhost:8080/",
          "height": 158
        },
        "outputId": "90b3a889-c7b3-46a8-c080-0058f9e51892"
      },
      "source": [
        "#load data\n",
        "(X_train, y_train),(X_test, y_test) = keras.datasets.fashion_mnist.load_data()"
      ],
      "execution_count": 2,
      "outputs": [
        {
          "output_type": "stream",
          "text": [
            "Downloading data from https://storage.googleapis.com/tensorflow/tf-keras-datasets/train-labels-idx1-ubyte.gz\n",
            "32768/29515 [=================================] - 0s 0us/step\n",
            "Downloading data from https://storage.googleapis.com/tensorflow/tf-keras-datasets/train-images-idx3-ubyte.gz\n",
            "26427392/26421880 [==============================] - 0s 0us/step\n",
            "Downloading data from https://storage.googleapis.com/tensorflow/tf-keras-datasets/t10k-labels-idx1-ubyte.gz\n",
            "8192/5148 [===============================================] - 0s 0us/step\n",
            "Downloading data from https://storage.googleapis.com/tensorflow/tf-keras-datasets/t10k-images-idx3-ubyte.gz\n",
            "4423680/4422102 [==============================] - 0s 0us/step\n"
          ],
          "name": "stdout"
        }
      ]
    },
    {
      "cell_type": "code",
      "metadata": {
        "id": "151lHSugjvR8",
        "colab_type": "code",
        "colab": {}
      },
      "source": [
        "X_train.shape\n",
        "X_train_rescaled = X_train /255\n",
        "X_test_rescaled = X_test / 255"
      ],
      "execution_count": 0,
      "outputs": []
    },
    {
      "cell_type": "code",
      "metadata": {
        "id": "lv7QiTT9n9Rq",
        "colab_type": "code",
        "colab": {
          "base_uri": "https://localhost:8080/",
          "height": 845
        },
        "outputId": "0c6ee998-a5ac-4676-f782-fcaea1d352ef"
      },
      "source": [
        "#visualize a few\n",
        "number_of_digits = 10\n",
        "num_examples = 10\n",
        "plt.rcParams['image.cmap'] = \"binary\"\n",
        "plt.rcParams['figure.figsize'] = [15,15]\n",
        "fig, axes_list = plt.subplots(10)\n",
        "for i in range(num_examples):\n",
        "        axes_list[i].imshow(X_train_rescaled[i],interpolation=\"nearest\")\n",
        "        axes_list[i].axis(\"off\")"
      ],
      "execution_count": 4,
      "outputs": [
        {
          "output_type": "display_data",
          "data": {
            "image/png": "[encoded data removed]",
            "text/plain": [
              "<Figure size 1080x1080 with 10 Axes>"
            ]
          },
          "metadata": {
            "tags": [],
            "needs_background": "light"
          }
        }
      ]
    },
    {
      "cell_type": "markdown",
      "metadata": {
        "id": "H1aqRTPN8nvQ",
        "colab_type": "text"
      },
      "source": [
        "## Custom layer to sample coding"
      ]
    },
    {
      "cell_type": "code",
      "metadata": {
        "id": "Hun4HSmK8qAl",
        "colab_type": "code",
        "colab": {}
      },
      "source": [
        "class Sampling(keras.layers.Layer):\n",
        "    def call(self, inputs):\n",
        "        mean, log_var = inputs #mean and log(variance) -- using log(var) is numerically more stable.\n",
        "        return K.random_normal(tf.shape(log_var)) + K.exp(log_var/2) + mean #sample from N(mean, exp(log_var/2))        "
      ],
      "execution_count": 0,
      "outputs": []
    },
    {
      "cell_type": "code",
      "metadata": {
        "id": "3lLFgdqVjKiN",
        "colab_type": "code",
        "colab": {}
      },
      "source": [
        "# create a model using functional API because the model is not entirely sequential\n",
        "codings_size = 10\n",
        "image_size = X_train.shape[1:]\n",
        "\n",
        "#create encoder part of the variational autoencoder\n",
        "inputs = keras.layers.Input(shape=image_size)\n",
        "z = keras.layers.Flatten()(inputs)\n",
        "z = keras.layers.Dense(150, activation=\"selu\")(z)\n",
        "z = keras.layers.Dense(100, activation=\"selu\")(z)\n",
        "codings_mean = keras.layers.Dense(codings_size)(z) #mean\n",
        "codings_log_var = keras.layers.Dense(codings_size)(z) #log(var)\n",
        "codings = Sampling()([codings_mean, codings_log_var])\n",
        "variational_encoder = keras.Model(inputs=[inputs], outputs=[codings_mean, codings_log_var, codings])\n",
        "\n",
        "#create decoder latent representation size = 10\n",
        "decoder_inputs = Input(shape=[codings_size])\n",
        "x = Dense(100, activation=\"selu\")(decoder_inputs)\n",
        "x = Dense(150, activation=\"selu\")(x)\n",
        "x = Dense(28*28, activation=\"sigmoid\")(x)\n",
        "outputs = keras.layers.Reshape([28,28])(x)\n",
        "variational_decoder = keras.Model(inputs=[decoder_inputs], outputs=[outputs])"
      ],
      "execution_count": 0,
      "outputs": []
    },
    {
      "cell_type": "code",
      "metadata": {
        "id": "N1rTX8jxm81-",
        "colab_type": "code",
        "colab": {}
      },
      "source": [
        "#let's build the variational model\n",
        "_, _, codings = variational_encoder(inputs) #give the size of inputs\n",
        "reconstructions = variational_decoder(codings)\n",
        "variational_ae = keras.Model(inputs=[inputs], outputs=[reconstructions])"
      ],
      "execution_count": 0,
      "outputs": []
    },
    {
      "cell_type": "code",
      "metadata": {
        "id": "YxTv3_ZcnWZX",
        "colab_type": "code",
        "colab": {}
      },
      "source": [
        "#let's add the latent loss and reconstruction loss\n",
        "latent_loss = -0.5 * K.sum( 1 + codings_log_var - K.exp(codings_log_var) - K.square(codings_mean),axis=-1)\n",
        "variational_ae.add_loss(K.mean(latent_loss)/784)\n",
        "variational_ae.compile(loss=\"binary_crossentropy\", optimizer=\"rmsprop\")"
      ],
      "execution_count": 0,
      "outputs": []
    },
    {
      "cell_type": "markdown",
      "metadata": {
        "id": "76iEn1C5nzZF",
        "colab_type": "text"
      },
      "source": [
        "## Train"
      ]
    },
    {
      "cell_type": "code",
      "metadata": {
        "id": "g2T28xhIkATW",
        "colab_type": "code",
        "colab": {
          "base_uri": "https://localhost:8080/",
          "height": 1000
        },
        "outputId": "6dc89135-14bd-4443-891d-0dba76588fc3"
      },
      "source": [
        "variational_ae.fit(X_train_rescaled,X_train_rescaled, epochs=50, batch_size=128, validation_data=(X_test_rescaled,X_test_rescaled))"
      ],
      "execution_count": 11,
      "outputs": [
        {
          "output_type": "stream",
          "text": [
            "Epoch 1/50\n",
            "469/469 [==============================] - 3s 6ms/step - loss: 0.3277 - val_loss: 0.3298\n",
            "Epoch 2/50\n",
            "469/469 [==============================] - 3s 6ms/step - loss: 0.3277 - val_loss: 0.3303\n",
            "Epoch 3/50\n",
            "469/469 [==============================] - 3s 6ms/step - loss: 0.3277 - val_loss: 0.3304\n",
            "Epoch 4/50\n",
            "469/469 [==============================] - 3s 6ms/step - loss: 0.3276 - val_loss: 0.3292\n",
            "Epoch 5/50\n",
            "469/469 [==============================] - 3s 6ms/step - loss: 0.3277 - val_loss: 0.3304\n",
            "Epoch 6/50\n",
            "469/469 [==============================] - 3s 6ms/step - loss: 0.3276 - val_loss: 0.3300\n",
            "Epoch 7/50\n",
            "469/469 [==============================] - 3s 6ms/step - loss: 0.3277 - val_loss: 0.3297\n",
            "Epoch 8/50\n",
            "469/469 [==============================] - 3s 6ms/step - loss: 0.3277 - val_loss: 0.3298\n",
            "Epoch 9/50\n",
            "469/469 [==============================] - 3s 6ms/step - loss: 0.3275 - val_loss: 0.3297\n",
            "Epoch 10/50\n",
            "469/469 [==============================] - 3s 6ms/step - loss: 0.3275 - val_loss: 0.3303\n",
            "Epoch 11/50\n",
            "469/469 [==============================] - 3s 6ms/step - loss: 0.3275 - val_loss: 0.3305\n",
            "Epoch 12/50\n",
            "469/469 [==============================] - 3s 6ms/step - loss: 0.3273 - val_loss: 0.3322\n",
            "Epoch 13/50\n",
            "469/469 [==============================] - 3s 6ms/step - loss: 0.3274 - val_loss: 0.3301\n",
            "Epoch 14/50\n",
            "469/469 [==============================] - 3s 6ms/step - loss: 0.3275 - val_loss: 0.3294\n",
            "Epoch 15/50\n",
            "469/469 [==============================] - 3s 6ms/step - loss: 0.3274 - val_loss: 0.3298\n",
            "Epoch 16/50\n",
            "469/469 [==============================] - 3s 6ms/step - loss: 0.3273 - val_loss: 0.3323\n",
            "Epoch 17/50\n",
            "469/469 [==============================] - 3s 6ms/step - loss: 0.3272 - val_loss: 0.3295\n",
            "Epoch 18/50\n",
            "469/469 [==============================] - 3s 6ms/step - loss: 0.3273 - val_loss: 0.3301\n",
            "Epoch 19/50\n",
            "469/469 [==============================] - 3s 6ms/step - loss: 0.3273 - val_loss: 0.3296\n",
            "Epoch 20/50\n",
            "469/469 [==============================] - 3s 6ms/step - loss: 0.3272 - val_loss: 0.3304\n",
            "Epoch 21/50\n",
            "469/469 [==============================] - 3s 6ms/step - loss: 0.3271 - val_loss: 0.3295\n",
            "Epoch 22/50\n",
            "469/469 [==============================] - 3s 6ms/step - loss: 0.3270 - val_loss: 0.3299\n",
            "Epoch 23/50\n",
            "469/469 [==============================] - 3s 6ms/step - loss: 0.3271 - val_loss: 0.3298\n",
            "Epoch 24/50\n",
            "469/469 [==============================] - 3s 6ms/step - loss: 0.3271 - val_loss: 0.3289\n",
            "Epoch 25/50\n",
            "469/469 [==============================] - 3s 6ms/step - loss: 0.3270 - val_loss: 0.3296\n",
            "Epoch 26/50\n",
            "469/469 [==============================] - 3s 6ms/step - loss: 0.3270 - val_loss: 0.3312\n",
            "Epoch 27/50\n",
            "469/469 [==============================] - 3s 6ms/step - loss: 0.3269 - val_loss: 0.3294\n",
            "Epoch 28/50\n",
            "469/469 [==============================] - 3s 6ms/step - loss: 0.3270 - val_loss: 0.3295\n",
            "Epoch 29/50\n",
            "469/469 [==============================] - 3s 6ms/step - loss: 0.3271 - val_loss: 0.3290\n",
            "Epoch 30/50\n",
            "469/469 [==============================] - 3s 6ms/step - loss: 0.3270 - val_loss: 0.3307\n",
            "Epoch 31/50\n",
            "469/469 [==============================] - 3s 6ms/step - loss: 0.3270 - val_loss: 0.3294\n",
            "Epoch 32/50\n",
            "469/469 [==============================] - 3s 6ms/step - loss: 0.3269 - val_loss: 0.3298\n",
            "Epoch 33/50\n",
            "469/469 [==============================] - 3s 6ms/step - loss: 0.3268 - val_loss: 0.3305\n",
            "Epoch 34/50\n",
            "469/469 [==============================] - 3s 6ms/step - loss: 0.3269 - val_loss: 0.3311\n",
            "Epoch 35/50\n",
            "469/469 [==============================] - 3s 6ms/step - loss: 0.3269 - val_loss: 0.3289\n",
            "Epoch 36/50\n",
            "469/469 [==============================] - 3s 6ms/step - loss: 0.3269 - val_loss: 0.3285\n",
            "Epoch 37/50\n",
            "469/469 [==============================] - 3s 6ms/step - loss: 0.3269 - val_loss: 0.3290\n",
            "Epoch 38/50\n",
            "469/469 [==============================] - 3s 6ms/step - loss: 0.3267 - val_loss: 0.3306\n",
            "Epoch 39/50\n",
            "469/469 [==============================] - 3s 6ms/step - loss: 0.3267 - val_loss: 0.3296\n",
            "Epoch 40/50\n",
            "469/469 [==============================] - 3s 6ms/step - loss: 0.3269 - val_loss: 0.3286\n",
            "Epoch 41/50\n",
            "469/469 [==============================] - 3s 6ms/step - loss: 0.3268 - val_loss: 0.3281\n",
            "Epoch 42/50\n",
            "469/469 [==============================] - 3s 6ms/step - loss: 0.3267 - val_loss: 0.3289\n",
            "Epoch 43/50\n",
            "469/469 [==============================] - 3s 6ms/step - loss: 0.3267 - val_loss: 0.3294\n",
            "Epoch 44/50\n",
            "469/469 [==============================] - 3s 6ms/step - loss: 0.3266 - val_loss: 0.3300\n",
            "Epoch 45/50\n",
            "469/469 [==============================] - 3s 6ms/step - loss: 0.3267 - val_loss: 0.3305\n",
            "Epoch 46/50\n",
            "469/469 [==============================] - 3s 6ms/step - loss: 0.3267 - val_loss: 0.3286\n",
            "Epoch 47/50\n",
            "469/469 [==============================] - 3s 6ms/step - loss: 0.3269 - val_loss: 0.3302\n",
            "Epoch 48/50\n",
            "469/469 [==============================] - 3s 6ms/step - loss: 0.3267 - val_loss: 0.3292\n",
            "Epoch 49/50\n",
            "469/469 [==============================] - 3s 6ms/step - loss: 0.3265 - val_loss: 0.3288\n",
            "Epoch 50/50\n",
            "469/469 [==============================] - 3s 6ms/step - loss: 0.3266 - val_loss: 0.3289\n"
          ],
          "name": "stdout"
        },
        {
          "output_type": "execute_result",
          "data": {
            "text/plain": [
              "<tensorflow.python.keras.callbacks.History at 0x7f1f05473198>"
            ]
          },
          "metadata": {
            "tags": []
          },
          "execution_count": 11
        }
      ]
    },
    {
      "cell_type": "markdown",
      "metadata": {
        "id": "1VbFyJwyosE3",
        "colab_type": "text"
      },
      "source": [
        "## Generate Fashion MNIST Images"
      ]
    },
    {
      "cell_type": "code",
      "metadata": {
        "id": "wGZMhu-fovqd",
        "colab_type": "code",
        "colab": {
          "base_uri": "https://localhost:8080/",
          "height": 261
        },
        "outputId": "5bd24afe-4224-44ca-9522-74555d9de734"
      },
      "source": [
        "codings = tf.random.normal(shape=[6,codings_size])\n",
        "plt.rcParams['image.cmap'] = \"binary\"\n",
        "plt.rcParams['figure.figsize'] = [5,5]\n",
        "images = variational_decoder(codings).numpy()\n",
        "_, axes = plt.subplots(2,3)\n",
        "for index, image in enumerate(images):\n",
        "    axes[index//3, index%3].imshow(image,interpolation=\"nearest\")\n",
        "    axes[index//3, index%3].axis(\"off\")\n"
      ],
      "execution_count": 15,
      "outputs": [
        {
          "output_type": "display_data",
          "data": {
            "image/png": "[encoded data removed]",
            "text/plain": [
              "<Figure size 360x360 with 6 Axes>"
            ]
          },
          "metadata": {
            "tags": [],
            "needs_background": "light"
          }
        }
      ]
    },
    {
      "cell_type": "code",
      "metadata": {
        "id": "lo_XeLbQpaqV",
        "colab_type": "code",
        "colab": {}
      },
      "source": [
        ""
      ],
      "execution_count": 0,
      "outputs": []
    }
  ]
}