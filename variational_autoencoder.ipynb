{
  "nbformat": 4,
  "nbformat_minor": 0,
  "metadata": {
    "colab": {
      "name": "variational_autoencoder.ipynb",
      "provenance": [],
      "collapsed_sections": []
    },
    "kernelspec": {
      "name": "python3",
      "display_name": "Python 3"
    },
    "accelerator": "GPU"
  },
  "cells": [
    {
      "cell_type": "markdown",
      "metadata": {
        "id": "DlO3kMTm6PvP",
        "colab_type": "text"
      },
      "source": [
        "# Variational autoencoder\n",
        "- Probablistic autoencoders: the outputs are partly determined by chance, even after training\n",
        "- generative autoencoders: it can generate new instances that look like they were sampled from the training set.\n",
        "- performs variational Bayesian inference\n",
        "- Instead of directly producing a latent representation for a given input, the encoder produces a mean and a standard deviation Then the actual latent representation is sampled from a Gaussian distribution with the generated mean and standard deviation. \n",
        "- After training a variaonal autoencoder, you can very easily generate a new instance by sampling a random numbers from the gaussian distribution and decode it!\n",
        "- The cost function consists of two parts:\n",
        "    1. reconstruction loss that pushes the autoencoder to reproduce its inputs\n",
        "    2. latent loss that pushes the autoencoder to have coding that looks as though they were sampled from a simple gaussian distribution"
      ]
    },
    {
      "cell_type": "markdown",
      "metadata": {
        "id": "W8Zr9RnBDhwX",
        "colab_type": "text"
      },
      "source": [
        "## Importing dependencies\n"
      ]
    },
    {
      "cell_type": "code",
      "metadata": {
        "id": "ANlIJXDCDkN9",
        "colab_type": "code",
        "colab": {
          "base_uri": "https://localhost:8080/",
          "height": 52
        },
        "outputId": "4f8231dc-8d92-4a89-9103-1bbc57ae4b0d"
      },
      "source": [
        "import tensorflow as tf\n",
        "import tensorflow.keras as keras\n",
        "import tensorflow.keras.backend as K\n",
        "import numpy as np\n",
        "from tensorflow.keras.layers import Layer, Input, Dense, Flatten, Reshape\n",
        "import matplotlib.pyplot as plt\n",
        "\n",
        "print(f\"tensorflow version: {tf.__version__}\")\n",
        "print(f\"keras version: {keras.__version__}\")"
      ],
      "execution_count": 27,
      "outputs": [
        {
          "output_type": "stream",
          "text": [
            "tensorflow version: 2.2.0\n",
            "keras version: 2.3.0-tf\n"
          ],
          "name": "stdout"
        }
      ]
    },
    {
      "cell_type": "markdown",
      "metadata": {
        "id": "lbLXqiS4jbf6",
        "colab_type": "text"
      },
      "source": [
        "## Exploratory data analysis & data preprocesin"
      ]
    },
    {
      "cell_type": "code",
      "metadata": {
        "id": "jeoilHWMjfba",
        "colab_type": "code",
        "colab": {}
      },
      "source": [
        "#load data\n",
        "(X_train, y_train),(X_test, y_test) = keras.datasets.fashion_mnist.load_data()"
      ],
      "execution_count": 0,
      "outputs": []
    },
    {
      "cell_type": "code",
      "metadata": {
        "id": "151lHSugjvR8",
        "colab_type": "code",
        "colab": {}
      },
      "source": [
        "X_train.shape\n",
        "X_train_rescaled = X_train /255\n",
        "X_test_rescaled = X_test / 255"
      ],
      "execution_count": 0,
      "outputs": []
    },
    {
      "cell_type": "code",
      "metadata": {
        "id": "lv7QiTT9n9Rq",
        "colab_type": "code",
        "colab": {
          "base_uri": "https://localhost:8080/",
          "height": 845
        },
        "outputId": "ed515ad0-e469-4fe4-b1dd-acf4c45fc503"
      },
      "source": [
        "#visualize a few\n",
        "number_of_digits = 10\n",
        "num_examples = 10\n",
        "plt.rcParams['image.cmap'] = \"binary\"\n",
        "plt.rcParams['figure.figsize'] = [15,15]\n",
        "fig, axes_list = plt.subplots(10)\n",
        "for i in range(num_examples):\n",
        "        axes_list[i].imshow(X_train_rescaled[i],interpolation=\"nearest\")\n",
        "        axes_list[i].axis(\"off\")"
      ],
      "execution_count": 28,
      "outputs": [
        {
          "output_type": "display_data",
          "data": {
            "image/png": "[encoded data removed]",
            "text/plain": [
              "<Figure size 1080x1080 with 10 Axes>"
            ]
          },
          "metadata": {
            "tags": [],
            "needs_background": "light"
          }
        }
      ]
    },
    {
      "cell_type": "markdown",
      "metadata": {
        "id": "H1aqRTPN8nvQ",
        "colab_type": "text"
      },
      "source": [
        "## Custom layer to sample coding"
      ]
    },
    {
      "cell_type": "code",
      "metadata": {
        "id": "Hun4HSmK8qAl",
        "colab_type": "code",
        "colab": {}
      },
      "source": [
        "class Sampling(keras.layers.Layer):\n",
        "    def call(self, inputs):\n",
        "        mean, log_var = inputs #mean and log(variance) -- using log(var) is numerically more stable.\n",
        "        return K.random_normal(tf.shape(log_var)) + K.exp(log_var/2) + mean #sample from N(mean, exp(log_var/2))        "
      ],
      "execution_count": 0,
      "outputs": []
    },
    {
      "cell_type": "code",
      "metadata": {
        "id": "3lLFgdqVjKiN",
        "colab_type": "code",
        "colab": {}
      },
      "source": [
        "# create a model using functional API because the model is not entirely sequential\n",
        "codings_size = 10\n",
        "image_size = X_train.shape[1:]\n",
        "\n",
        "#create encoder part of the variational autoencoder\n",
        "inputs = keras.layers.Input(shape=image_size)\n",
        "z = keras.layers.Flatten()(inputs)\n",
        "z = keras.layers.Dense(150, activation=\"selu\")(z)\n",
        "z = keras.layers.Dense(100, activation=\"selu\")(z)\n",
        "codings_mean = keras.layers.Dense(codings_size)(z) #mean\n",
        "codings_log_var = keras.layers.Dense(codings_size)(z) #log(var)\n",
        "codings = Sampling()([codings_mean, codings_log_var])\n",
        "variational_encoder = keras.Model(inputs=[inputs], outputs=[codings_mean, codings_log_var, codings])\n",
        "\n",
        "#create decoder latent representation size = 10\n",
        "decoder_inputs = Input(shape=[codings_size])\n",
        "x = Dense(100, activation=\"selu\")(decoder_inputs)\n",
        "x = Dense(150, activation=\"selu\")(x)\n",
        "x = Dense(28*28, activation=\"sigmoid\")(x)\n",
        "outputs = keras.layers.Reshape([28,28])(x)\n",
        "variational_decoder = keras.Model(inputs=[decoder_inputs], outputs=[outputs])"
      ],
      "execution_count": 0,
      "outputs": []
    },
    {
      "cell_type": "code",
      "metadata": {
        "id": "N1rTX8jxm81-",
        "colab_type": "code",
        "colab": {}
      },
      "source": [
        "#let's build the variational model\n",
        "_, _, codings = variational_encoder(inputs) #give the size of inputs\n",
        "reconstructions = variational_decoder(codings)\n",
        "variational_ae = keras.Model(inputs=[inputs], outputs=[reconstructions])"
      ],
      "execution_count": 0,
      "outputs": []
    },
    {
      "cell_type": "code",
      "metadata": {
        "id": "YxTv3_ZcnWZX",
        "colab_type": "code",
        "colab": {}
      },
      "source": [
        "#let's add the latent loss and reconstruction loss\n",
        "latent_loss = -0.5 * K.sum( 1 + codings_log_var - K.exp(codings_log_var) - K.square(codings_mean),axis=-1)\n",
        "variational_ae.add_loss(K.mean(latent_loss)/784)\n",
        "variational_ae.compile(loss=\"binary_crossentropy\", optimizer=\"rmsprop\")"
      ],
      "execution_count": 0,
      "outputs": []
    },
    {
      "cell_type": "markdown",
      "metadata": {
        "id": "76iEn1C5nzZF",
        "colab_type": "text"
      },
      "source": [
        "## Train"
      ]
    },
    {
      "cell_type": "code",
      "metadata": {
        "id": "g2T28xhIkATW",
        "colab_type": "code",
        "colab": {
          "base_uri": "https://localhost:8080/",
          "height": 1000
        },
        "outputId": "4b8213eb-9672-4de4-bfbe-7baa1c40c8a0"
      },
      "source": [
        "variational_ae.fit(X_train_rescaled,X_train_rescaled, epochs=50, batch_size=128, validation_data=(X_test_rescaled,X_test_rescaled))"
      ],
      "execution_count": 72,
      "outputs": [
        {
          "output_type": "stream",
          "text": [
            "Epoch 1/50\n",
            "469/469 [==============================] - 4s 7ms/step - loss: 0.3871 - val_loss: 0.3552\n",
            "Epoch 2/50\n",
            "469/469 [==============================] - 3s 6ms/step - loss: 0.3515 - val_loss: 0.3480\n",
            "Epoch 3/50\n",
            "469/469 [==============================] - 3s 6ms/step - loss: 0.3446 - val_loss: 0.3456\n",
            "Epoch 4/50\n",
            "469/469 [==============================] - 3s 6ms/step - loss: 0.3414 - val_loss: 0.3427\n",
            "Epoch 5/50\n",
            "469/469 [==============================] - 3s 6ms/step - loss: 0.3391 - val_loss: 0.3434\n",
            "Epoch 6/50\n",
            "469/469 [==============================] - 3s 6ms/step - loss: 0.3376 - val_loss: 0.3392\n",
            "Epoch 7/50\n",
            "469/469 [==============================] - 3s 7ms/step - loss: 0.3364 - val_loss: 0.3385\n",
            "Epoch 8/50\n",
            "469/469 [==============================] - 3s 7ms/step - loss: 0.3355 - val_loss: 0.3384\n",
            "Epoch 9/50\n",
            "469/469 [==============================] - 3s 6ms/step - loss: 0.3346 - val_loss: 0.3360\n",
            "Epoch 10/50\n",
            "469/469 [==============================] - 3s 6ms/step - loss: 0.3341 - val_loss: 0.3394\n",
            "Epoch 11/50\n",
            "469/469 [==============================] - 3s 6ms/step - loss: 0.3335 - val_loss: 0.3353\n",
            "Epoch 12/50\n",
            "469/469 [==============================] - 3s 6ms/step - loss: 0.3329 - val_loss: 0.3347\n",
            "Epoch 13/50\n",
            "469/469 [==============================] - 3s 6ms/step - loss: 0.3326 - val_loss: 0.3350\n",
            "Epoch 14/50\n",
            "469/469 [==============================] - 3s 6ms/step - loss: 0.3324 - val_loss: 0.3393\n",
            "Epoch 15/50\n",
            "469/469 [==============================] - 3s 6ms/step - loss: 0.3319 - val_loss: 0.3335\n",
            "Epoch 16/50\n",
            "469/469 [==============================] - 3s 7ms/step - loss: 0.3316 - val_loss: 0.3332\n",
            "Epoch 17/50\n",
            "469/469 [==============================] - 3s 6ms/step - loss: 0.3313 - val_loss: 0.3348\n",
            "Epoch 18/50\n",
            "469/469 [==============================] - 3s 6ms/step - loss: 0.3311 - val_loss: 0.3331\n",
            "Epoch 19/50\n",
            "469/469 [==============================] - 3s 7ms/step - loss: 0.3309 - val_loss: 0.3330\n",
            "Epoch 20/50\n",
            "469/469 [==============================] - 3s 6ms/step - loss: 0.3306 - val_loss: 0.3332\n",
            "Epoch 21/50\n",
            "469/469 [==============================] - 3s 7ms/step - loss: 0.3304 - val_loss: 0.3325\n",
            "Epoch 22/50\n",
            "469/469 [==============================] - 3s 6ms/step - loss: 0.3303 - val_loss: 0.3320\n",
            "Epoch 23/50\n",
            "469/469 [==============================] - 3s 7ms/step - loss: 0.3300 - val_loss: 0.3329\n",
            "Epoch 24/50\n",
            "469/469 [==============================] - 3s 7ms/step - loss: 0.3298 - val_loss: 0.3317\n",
            "Epoch 25/50\n",
            "469/469 [==============================] - 3s 7ms/step - loss: 0.3299 - val_loss: 0.3316\n",
            "Epoch 26/50\n",
            "469/469 [==============================] - 3s 6ms/step - loss: 0.3296 - val_loss: 0.3329\n",
            "Epoch 27/50\n",
            "469/469 [==============================] - 3s 7ms/step - loss: 0.3296 - val_loss: 0.3310\n",
            "Epoch 28/50\n",
            "469/469 [==============================] - 3s 7ms/step - loss: 0.3295 - val_loss: 0.3310\n",
            "Epoch 29/50\n",
            "469/469 [==============================] - 3s 6ms/step - loss: 0.3293 - val_loss: 0.3313\n",
            "Epoch 30/50\n",
            "469/469 [==============================] - 3s 7ms/step - loss: 0.3292 - val_loss: 0.3313\n",
            "Epoch 31/50\n",
            "469/469 [==============================] - 4s 8ms/step - loss: 0.3290 - val_loss: 0.3304\n",
            "Epoch 32/50\n",
            "469/469 [==============================] - 3s 7ms/step - loss: 0.3290 - val_loss: 0.3303\n",
            "Epoch 33/50\n",
            "469/469 [==============================] - 3s 6ms/step - loss: 0.3290 - val_loss: 0.3308\n",
            "Epoch 34/50\n",
            "469/469 [==============================] - 3s 6ms/step - loss: 0.3289 - val_loss: 0.3311\n",
            "Epoch 35/50\n",
            "469/469 [==============================] - 3s 6ms/step - loss: 0.3288 - val_loss: 0.3313\n",
            "Epoch 36/50\n",
            "469/469 [==============================] - 3s 6ms/step - loss: 0.3287 - val_loss: 0.3304\n",
            "Epoch 37/50\n",
            "469/469 [==============================] - 3s 7ms/step - loss: 0.3285 - val_loss: 0.3313\n",
            "Epoch 38/50\n",
            "469/469 [==============================] - 3s 6ms/step - loss: 0.3285 - val_loss: 0.3325\n",
            "Epoch 39/50\n",
            "469/469 [==============================] - 3s 7ms/step - loss: 0.3286 - val_loss: 0.3319\n",
            "Epoch 40/50\n",
            "469/469 [==============================] - 3s 7ms/step - loss: 0.3284 - val_loss: 0.3306\n",
            "Epoch 41/50\n",
            "469/469 [==============================] - 3s 6ms/step - loss: 0.3283 - val_loss: 0.3320\n",
            "Epoch 42/50\n",
            "469/469 [==============================] - 3s 7ms/step - loss: 0.3283 - val_loss: 0.3309\n",
            "Epoch 43/50\n",
            "469/469 [==============================] - 3s 6ms/step - loss: 0.3283 - val_loss: 0.3317\n",
            "Epoch 44/50\n",
            "469/469 [==============================] - 3s 6ms/step - loss: 0.3280 - val_loss: 0.3314\n",
            "Epoch 45/50\n",
            "469/469 [==============================] - 3s 6ms/step - loss: 0.3281 - val_loss: 0.3307\n",
            "Epoch 46/50\n",
            "469/469 [==============================] - 3s 7ms/step - loss: 0.3280 - val_loss: 0.3310\n",
            "Epoch 47/50\n",
            "469/469 [==============================] - 3s 7ms/step - loss: 0.3279 - val_loss: 0.3316\n",
            "Epoch 48/50\n",
            "469/469 [==============================] - 3s 7ms/step - loss: 0.3279 - val_loss: 0.3305\n",
            "Epoch 49/50\n",
            "469/469 [==============================] - 3s 7ms/step - loss: 0.3279 - val_loss: 0.3315\n",
            "Epoch 50/50\n",
            "469/469 [==============================] - 3s 6ms/step - loss: 0.3278 - val_loss: 0.3303\n"
          ],
          "name": "stdout"
        },
        {
          "output_type": "execute_result",
          "data": {
            "text/plain": [
              "<tensorflow.python.keras.callbacks.History at 0x7f2d8473e400>"
            ]
          },
          "metadata": {
            "tags": []
          },
          "execution_count": 72
        }
      ]
    },
    {
      "cell_type": "markdown",
      "metadata": {
        "id": "1VbFyJwyosE3",
        "colab_type": "text"
      },
      "source": [
        "## Generate Fashion MNIST Images"
      ]
    },
    {
      "cell_type": "code",
      "metadata": {
        "id": "wGZMhu-fovqd",
        "colab_type": "code",
        "colab": {
          "base_uri": "https://localhost:8080/",
          "height": 738
        },
        "outputId": "15938a06-9c7d-4454-d4a4-51bcf1270ee7"
      },
      "source": [
        "codings = tf.random.normal(shape=[6,codings_size])\n",
        "images = variational_decoder(codings).numpy()\n",
        "_, axes = plt.subplots(2,3)\n",
        "for index, image in enumerate(images):\n",
        "    axes[index//3, index%3].imshow(image,interpolation=\"nearest\")\n"
      ],
      "execution_count": 55,
      "outputs": [
        {
          "output_type": "display_data",
          "data": {
            "image/png": "[encoded data removed]",
            "text/plain": [
              "<Figure size 1080x1080 with 6 Axes>"
            ]
          },
          "metadata": {
            "tags": [],
            "needs_background": "light"
          }
        }
      ]
    },
    {
      "cell_type": "code",
      "metadata": {
        "id": "lo_XeLbQpaqV",
        "colab_type": "code",
        "colab": {}
      },
      "source": [
        ""
      ],
      "execution_count": 0,
      "outputs": []
    }
  ]
}